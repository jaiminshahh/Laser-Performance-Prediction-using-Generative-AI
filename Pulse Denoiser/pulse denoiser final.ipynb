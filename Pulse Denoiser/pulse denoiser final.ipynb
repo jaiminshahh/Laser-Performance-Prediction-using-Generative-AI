{
 "cells": [
  {
   "cell_type": "markdown",
   "id": "995bdafd",
   "metadata": {},
   "source": [
    "# Importing Libraries"
   ]
  },
  {
   "cell_type": "code",
   "execution_count": 1,
   "id": "6a90d2d2",
   "metadata": {},
   "outputs": [],
   "source": [
    "import os\n",
    "import pandas as pd\n",
    "import numpy as np\n",
    "import torch\n",
    "from sklearn.preprocessing import MinMaxScaler\n",
    "from torch.utils.data import TensorDataset, DataLoader, random_split\n",
    "import torch.nn as nn\n",
    "import torch.optim as optim\n",
    "import matplotlib.pyplot as plt\n",
    "import joblib\n"
   ]
  },
  {
   "cell_type": "markdown",
   "id": "215dd76f",
   "metadata": {},
   "source": [
    "#  Loading and Storing Data"
   ]
  },
  {
   "cell_type": "code",
   "execution_count": 2,
   "id": "19e7f7b4",
   "metadata": {},
   "outputs": [],
   "source": [
    "base_directory = 'IntTemporalData'\n",
    "\n",
    "i_range = [i for i in range(20, 54) if i not in {22, 26, 30, 34, 48}]\n",
    "j_range = range(1, 41)\n",
    "\n",
    "data = {}\n",
    "\n",
    "for i in i_range:\n",
    "    for j in j_range:\n",
    "        input_file = os.path.join(base_directory, f'Run {i} - BL4, s39708', f'Run_{i}_BL4_s39708_InjPulsePower_InjEnergyFactor_{j}.csv')\n",
    "        output_file = os.path.join(base_directory, f'Run {i} - BL4, s39708', f'Run_{i}_BL4_s39708_UVDBS_Power_InjEnergyFactor_{j}.csv')\n",
    "\n",
    "        if os.path.isfile(input_file) and os.path.isfile(output_file):\n",
    "            input_data = pd.read_csv(input_file, header=None).iloc[0].values\n",
    "            output_data = pd.read_csv(output_file, header=None).iloc[0].values[59:59+576]\n",
    "            data[(i, j)] = {'input': input_data, 'output': output_data}\n",
    "        else:\n",
    "            print(f\"Files not found for i={i}, j={j}: Skipping.\")\n"
   ]
  },
  {
   "cell_type": "markdown",
   "id": "9a65c0fe",
   "metadata": {},
   "source": [
    "# Preparing Data for Training"
   ]
  },
  {
   "cell_type": "code",
   "execution_count": 3,
   "id": "d71411dc",
   "metadata": {},
   "outputs": [],
   "source": [
    "all_input_data = np.array([data[(i, j)]['input'] for i, j in data.keys()])\n",
    "all_output_data = np.array([data[(i, j)]['output'] for i, j in data.keys()])\n",
    "\n",
    "input_scaler = MinMaxScaler()\n",
    "output_scaler = MinMaxScaler()\n",
    "all_input_data = torch.tensor(input_scaler.fit_transform(all_input_data)).float()\n",
    "all_output_data = torch.tensor(output_scaler.fit_transform(all_output_data)).float()\n"
   ]
  },
  {
   "cell_type": "markdown",
   "id": "4431438c",
   "metadata": {},
   "source": [
    "# Creating Dataset and Splitting"
   ]
  },
  {
   "cell_type": "code",
   "execution_count": 4,
   "id": "4c5a1dd9",
   "metadata": {},
   "outputs": [],
   "source": [
    "dataset = TensorDataset(all_input_data, all_output_data)\n",
    "train_size = int(0.8 * len(dataset))\n",
    "val_size = len(dataset) - train_size\n",
    "train_dataset, val_dataset = random_split(dataset, [train_size, val_size])\n",
    "\n",
    "train_loader = DataLoader(train_dataset, batch_size=16, shuffle=True)\n",
    "val_loader = DataLoader(val_dataset, batch_size=16, shuffle=False)\n"
   ]
  },
  {
   "cell_type": "markdown",
   "id": "4d61c8b0",
   "metadata": {},
   "source": [
    "# Defining the Neural Network\n",
    "\n"
   ]
  },
  {
   "cell_type": "code",
   "execution_count": 5,
   "id": "b887127a",
   "metadata": {},
   "outputs": [],
   "source": [
    "class SimpleFeedForwardNN(nn.Module):\n",
    "    def __init__(self, input_dim, hidden_dim, output_dim):\n",
    "        super(SimpleFeedForwardNN, self).__init__()\n",
    "        self.fc1 = nn.Linear(input_dim, hidden_dim)\n",
    "        self.fc2 = nn.Linear(hidden_dim, hidden_dim)\n",
    "        self.fc3 = nn.Linear(hidden_dim, output_dim)\n",
    "\n",
    "    def forward(self, x):\n",
    "        x = torch.relu(self.fc1(x))\n",
    "        x = torch.relu(self.fc2(x))\n",
    "        x = self.fc3(x)\n",
    "        return x\n"
   ]
  },
  {
   "cell_type": "markdown",
   "id": "e2aa895d",
   "metadata": {},
   "source": [
    "# Initializing Model, Loss, and Optimizer"
   ]
  },
  {
   "cell_type": "code",
   "execution_count": 6,
   "id": "40338b19",
   "metadata": {},
   "outputs": [],
   "source": [
    "device = torch.device('cuda' if torch.cuda.is_available() else 'cpu')\n",
    "model = SimpleFeedForwardNN(input_dim=576, hidden_dim=128, output_dim=576).to(device)\n",
    "criterion = nn.L1Loss()\n",
    "optimizer = optim.Adam(model.parameters(), lr=0.0001)\n"
   ]
  },
  {
   "cell_type": "markdown",
   "id": "7c7f616a",
   "metadata": {},
   "source": [
    "# Training and Validation Loop"
   ]
  },
  {
   "cell_type": "code",
   "execution_count": 7,
   "id": "3da25e20",
   "metadata": {},
   "outputs": [
    {
     "name": "stdout",
     "output_type": "stream",
     "text": [
      "Epoch [1/50], Train Loss: 0.3396, Validation Loss: 0.1959\n",
      "Epoch [2/50], Train Loss: 0.1190, Validation Loss: 0.0687\n",
      "Epoch [3/50], Train Loss: 0.0536, Validation Loss: 0.0460\n",
      "Epoch [4/50], Train Loss: 0.0377, Validation Loss: 0.0311\n",
      "Epoch [5/50], Train Loss: 0.0247, Validation Loss: 0.0195\n",
      "Epoch [6/50], Train Loss: 0.0165, Validation Loss: 0.0139\n",
      "Epoch [7/50], Train Loss: 0.0124, Validation Loss: 0.0116\n",
      "Epoch [8/50], Train Loss: 0.0103, Validation Loss: 0.0094\n",
      "Epoch [9/50], Train Loss: 0.0091, Validation Loss: 0.0084\n",
      "Epoch [10/50], Train Loss: 0.0084, Validation Loss: 0.0081\n",
      "Epoch [11/50], Train Loss: 0.0081, Validation Loss: 0.0085\n",
      "Epoch [12/50], Train Loss: 0.0076, Validation Loss: 0.0072\n",
      "Epoch [13/50], Train Loss: 0.0075, Validation Loss: 0.0071\n",
      "Epoch [14/50], Train Loss: 0.0070, Validation Loss: 0.0067\n",
      "Epoch [15/50], Train Loss: 0.0070, Validation Loss: 0.0067\n",
      "Epoch [16/50], Train Loss: 0.0067, Validation Loss: 0.0064\n",
      "Epoch [17/50], Train Loss: 0.0062, Validation Loss: 0.0060\n",
      "Epoch [18/50], Train Loss: 0.0061, Validation Loss: 0.0060\n",
      "Epoch [19/50], Train Loss: 0.0061, Validation Loss: 0.0070\n",
      "Epoch [20/50], Train Loss: 0.0061, Validation Loss: 0.0055\n",
      "Epoch [21/50], Train Loss: 0.0056, Validation Loss: 0.0053\n",
      "Epoch [22/50], Train Loss: 0.0056, Validation Loss: 0.0052\n",
      "Epoch [23/50], Train Loss: 0.0055, Validation Loss: 0.0053\n",
      "Epoch [24/50], Train Loss: 0.0053, Validation Loss: 0.0053\n",
      "Epoch [25/50], Train Loss: 0.0054, Validation Loss: 0.0058\n",
      "Epoch [26/50], Train Loss: 0.0052, Validation Loss: 0.0053\n",
      "Epoch [27/50], Train Loss: 0.0049, Validation Loss: 0.0051\n",
      "Epoch [28/50], Train Loss: 0.0050, Validation Loss: 0.0046\n",
      "Epoch [29/50], Train Loss: 0.0048, Validation Loss: 0.0048\n",
      "Epoch [30/50], Train Loss: 0.0047, Validation Loss: 0.0045\n",
      "Epoch [31/50], Train Loss: 0.0047, Validation Loss: 0.0044\n",
      "Epoch [32/50], Train Loss: 0.0050, Validation Loss: 0.0051\n",
      "Epoch [33/50], Train Loss: 0.0046, Validation Loss: 0.0053\n",
      "Epoch [34/50], Train Loss: 0.0044, Validation Loss: 0.0045\n",
      "Epoch [35/50], Train Loss: 0.0045, Validation Loss: 0.0049\n",
      "Epoch [36/50], Train Loss: 0.0045, Validation Loss: 0.0042\n",
      "Epoch [37/50], Train Loss: 0.0044, Validation Loss: 0.0042\n",
      "Epoch [38/50], Train Loss: 0.0041, Validation Loss: 0.0041\n",
      "Epoch [39/50], Train Loss: 0.0043, Validation Loss: 0.0043\n",
      "Epoch [40/50], Train Loss: 0.0042, Validation Loss: 0.0040\n",
      "Epoch [41/50], Train Loss: 0.0042, Validation Loss: 0.0042\n",
      "Epoch [42/50], Train Loss: 0.0041, Validation Loss: 0.0040\n",
      "Epoch [43/50], Train Loss: 0.0042, Validation Loss: 0.0043\n",
      "Epoch [44/50], Train Loss: 0.0041, Validation Loss: 0.0045\n",
      "Epoch [45/50], Train Loss: 0.0042, Validation Loss: 0.0038\n",
      "Epoch [46/50], Train Loss: 0.0040, Validation Loss: 0.0039\n",
      "Epoch [47/50], Train Loss: 0.0039, Validation Loss: 0.0039\n",
      "Epoch [48/50], Train Loss: 0.0038, Validation Loss: 0.0037\n",
      "Epoch [49/50], Train Loss: 0.0039, Validation Loss: 0.0039\n",
      "Epoch [50/50], Train Loss: 0.0039, Validation Loss: 0.0041\n"
     ]
    }
   ],
   "source": [
    "num_epochs = 50\n",
    "train_losses = []\n",
    "val_losses = []\n",
    "\n",
    "for epoch in range(num_epochs):\n",
    "    model.train()\n",
    "    train_loss = 0\n",
    "    for inputs, targets in train_loader:\n",
    "        inputs, targets = inputs.to(device), targets.to(device)\n",
    "        optimizer.zero_grad()\n",
    "        outputs = model(inputs)\n",
    "        loss = criterion(outputs, targets)\n",
    "        loss.backward()\n",
    "        optimizer.step()\n",
    "        train_loss += loss.item() * inputs.size(0)\n",
    "\n",
    "    train_loss /= len(train_loader.dataset)\n",
    "    train_losses.append(train_loss)\n",
    "\n",
    "    model.eval()\n",
    "    val_loss = 0\n",
    "    with torch.no_grad():\n",
    "        for inputs, targets in val_loader:\n",
    "            inputs, targets = inputs.to(device), targets.to(device)\n",
    "            outputs = model(inputs)\n",
    "            loss = criterion(outputs, targets)\n",
    "            val_loss += loss.item() * inputs.size(0)\n",
    "\n",
    "    val_loss /= len(val_loader.dataset)\n",
    "    val_losses.append(val_loss)\n",
    "\n",
    "    print(f\"Epoch [{epoch+1}/{num_epochs}], Train Loss: {train_loss:.4f}, Validation Loss: {val_loss:.4f}\")\n"
   ]
  },
  {
   "cell_type": "markdown",
   "id": "90144c7a",
   "metadata": {},
   "source": [
    "# Saving Scalers"
   ]
  },
  {
   "cell_type": "code",
   "execution_count": 13,
   "id": "e8c2075e",
   "metadata": {},
   "outputs": [
    {
     "data": {
      "text/plain": [
       "['scalers/denoiser\\\\output_scaler.pkl']"
      ]
     },
     "execution_count": 13,
     "metadata": {},
     "output_type": "execute_result"
    }
   ],
   "source": [
    "scaler_folder = \"scalers/denoiser\"\n",
    "os.makedirs(scaler_folder, exist_ok=True)\n",
    "joblib.dump(input_scaler, os.path.join(scaler_folder, \"input_scaler.pkl\"))\n",
    "joblib.dump(output_scaler, os.path.join(scaler_folder, \"output_scaler.pkl\"))\n"
   ]
  },
  {
   "cell_type": "markdown",
   "id": "15979786",
   "metadata": {},
   "source": [
    "# Plotting Loss"
   ]
  },
  {
   "cell_type": "code",
   "execution_count": 9,
   "id": "728a54bc",
   "metadata": {},
   "outputs": [
    {
     "data": {
      "image/png": "[encoded data removed]",
      "text/plain": [
       "<Figure size 1000x500 with 1 Axes>"
      ]
     },
     "metadata": {},
     "output_type": "display_data"
    }
   ],
   "source": [
    "plt.figure(figsize=(10, 5))\n",
    "plt.plot(train_losses, label=\"Train Loss\")\n",
    "plt.plot(val_losses, label=\"Validation Loss\")\n",
    "plt.xlabel(\"Epoch\")\n",
    "plt.ylabel(\"Loss\")\n",
    "plt.legend()\n",
    "plt.title(\"Training and Validation Loss\")\n",
    "plt.show()\n"
   ]
  },
  {
   "cell_type": "code",
   "execution_count": 11,
   "id": "b6dd6bd9",
   "metadata": {},
   "outputs": [
    {
     "name": "stdout",
     "output_type": "stream",
     "text": [
      "Model saved as final/denoiser.pth\n"
     ]
    }
   ],
   "source": [
    "torch.save(model.state_dict(), 'final_models/denoiser.pth')\n",
    "print(\"Model saved as final_models/denoiser.pth\")\n"
   ]
  },
  {
   "cell_type": "code",
   "execution_count": null,
   "id": "8c88e9a3",
   "metadata": {},
   "outputs": [],
   "source": []
  },
  {
   "cell_type": "code",
   "execution_count": null,
   "id": "4099f539",
   "metadata": {},
   "outputs": [],
   "source": []
  },
  {
   "cell_type": "markdown",
   "id": "ce8348ef",
   "metadata": {},
   "source": [
    "# Testing"
   ]
  },
  {
   "cell_type": "code",
   "execution_count": 1,
   "id": "7dcb3baf",
   "metadata": {},
   "outputs": [],
   "source": [
    "import os\n",
    "import pandas as pd\n",
    "import numpy as np\n",
    "import torch\n",
    "import joblib\n",
    "import matplotlib.pyplot as plt\n",
    "from sklearn.metrics import mean_squared_error"
   ]
  },
  {
   "cell_type": "code",
   "execution_count": 2,
   "id": "bd69f958",
   "metadata": {},
   "outputs": [],
   "source": [
    "class SimpleFeedForwardNN(torch.nn.Module):\n",
    "    def __init__(self, input_dim, hidden_dim, output_dim):\n",
    "        super(SimpleFeedForwardNN, self).__init__()\n",
    "        self.fc1 = torch.nn.Linear(input_dim, hidden_dim)\n",
    "        self.fc2 = torch.nn.Linear(hidden_dim, hidden_dim)\n",
    "        self.fc3 = torch.nn.Linear(hidden_dim, output_dim)\n",
    "\n",
    "    def forward(self, x):\n",
    "        x = torch.relu(self.fc1(x))\n",
    "        x = torch.relu(self.fc2(x))\n",
    "        x = self.fc3(x)\n",
    "        return x"
   ]
  },
  {
   "cell_type": "code",
   "execution_count": 3,
   "id": "2ca9b4cf",
   "metadata": {},
   "outputs": [],
   "source": [
    "device = torch.device('cuda' if torch.cuda.is_available() else 'cpu')\n",
    "model = SimpleFeedForwardNN(input_dim=576, hidden_dim=128, output_dim=576).to(device)\n",
    "model.load_state_dict(torch.load('final_models/denoiser.pth'))\n",
    "model.eval()\n",
    "\n",
    "input_scaler = joblib.load('final_op/denoiser/scalers/denoiser/input_scaler.pkl')\n",
    "output_scaler = joblib.load('final_op/denoiser/scalers/denoiser/output_scaler.pkl')"
   ]
  },
  {
   "cell_type": "code",
   "execution_count": 4,
   "id": "3416fa83",
   "metadata": {},
   "outputs": [],
   "source": [
    "time_data = pd.read_csv('TimeAxis.csv', header=None).iloc[0].values\n",
    "test_runs = [22, 26, 30, 34, 48]\n",
    "j_range = range(1, 41)\n",
    "\n",
    "# Initialize a list for results\n",
    "results = []\n",
    "\n",
    "# Create folders for saving outputs\n",
    "output_folder = \"final_op/denoiser\"\n",
    "os.makedirs(output_folder, exist_ok=True)\n",
    "csv_folder = os.path.join(output_folder, \"csv\")\n",
    "plots_folder = os.path.join(output_folder, \"plots\")\n",
    "os.makedirs(csv_folder, exist_ok=True)\n",
    "os.makedirs(plots_folder, exist_ok=True)"
   ]
  },
  {
   "cell_type": "code",
   "execution_count": 16,
   "id": "7e339b84",
   "metadata": {},
   "outputs": [
    {
     "name": "stdout",
     "output_type": "stream",
     "text": [
      "Run 22, File 1 -> MSE: 0.4956, Predicted Energy: 3.0955, Ground Truth Energy: 1.0571, Energy Difference: 2.0384\n",
      "Run 22, File 2 -> MSE: 0.1813, Predicted Energy: 5.2475, Ground Truth Energy: 5.3221, Energy Difference: 0.0746\n",
      "Run 22, File 3 -> MSE: 0.3638, Predicted Energy: 12.6859, Ground Truth Energy: 13.8979, Energy Difference: 1.2120\n",
      "Run 22, File 4 -> MSE: 0.2804, Predicted Energy: 30.2384, Ground Truth Energy: 28.0902, Energy Difference: 2.1481\n",
      "Run 22, File 5 -> MSE: 0.4344, Predicted Energy: 51.0279, Ground Truth Energy: 47.7449, Energy Difference: 3.2831\n",
      "Run 22, File 6 -> MSE: 0.2387, Predicted Energy: 74.3725, Ground Truth Energy: 73.0204, Energy Difference: 1.3521\n",
      "Run 22, File 7 -> MSE: 0.3439, Predicted Energy: 106.5238, Ground Truth Energy: 103.5129, Energy Difference: 3.0109\n",
      "Run 22, File 8 -> MSE: 0.3323, Predicted Energy: 143.1717, Ground Truth Energy: 138.9285, Energy Difference: 4.2432\n",
      "Run 22, File 9 -> MSE: 0.3386, Predicted Energy: 181.0580, Ground Truth Energy: 178.9014, Energy Difference: 2.1567\n",
      "Run 22, File 10 -> MSE: 0.3237, Predicted Energy: 225.5342, Ground Truth Energy: 223.0205, Energy Difference: 2.5137\n",
      "Run 22, File 11 -> MSE: 0.5352, Predicted Energy: 271.1692, Ground Truth Energy: 270.9351, Energy Difference: 0.2341\n",
      "Run 22, File 12 -> MSE: 0.5468, Predicted Energy: 325.5767, Ground Truth Energy: 322.2756, Energy Difference: 3.3011\n",
      "Run 22, File 13 -> MSE: 0.2531, Predicted Energy: 376.8992, Ground Truth Energy: 376.7043, Energy Difference: 0.1950\n",
      "Run 22, File 14 -> MSE: 0.3035, Predicted Energy: 435.5475, Ground Truth Energy: 433.9316, Energy Difference: 1.6158\n",
      "Run 22, File 15 -> MSE: 0.4863, Predicted Energy: 494.9753, Ground Truth Energy: 493.6569, Energy Difference: 1.3184\n",
      "Run 22, File 16 -> MSE: 0.3985, Predicted Energy: 560.1015, Ground Truth Energy: 555.6233, Energy Difference: 4.4782\n",
      "Run 22, File 17 -> MSE: 0.4863, Predicted Energy: 623.3380, Ground Truth Energy: 619.5896, Energy Difference: 3.7484\n",
      "Run 22, File 18 -> MSE: 0.5700, Predicted Energy: 690.4419, Ground Truth Energy: 685.3414, Energy Difference: 5.1005\n",
      "Run 22, File 19 -> MSE: 0.5095, Predicted Energy: 755.7434, Ground Truth Energy: 752.6775, Energy Difference: 3.0658\n",
      "Run 22, File 20 -> MSE: 1.3258, Predicted Energy: 827.3672, Ground Truth Energy: 821.4268, Energy Difference: 5.9404\n",
      "Run 22, File 21 -> MSE: 0.9424, Predicted Energy: 895.0464, Ground Truth Energy: 891.4271, Energy Difference: 3.6193\n",
      "Run 22, File 22 -> MSE: 0.6267, Predicted Energy: 961.6703, Ground Truth Energy: 962.5326, Energy Difference: 0.8623\n",
      "Run 22, File 23 -> MSE: 0.7930, Predicted Energy: 1033.9208, Ground Truth Energy: 1034.6089, Energy Difference: 0.6881\n",
      "Run 22, File 24 -> MSE: 0.9215, Predicted Energy: 1107.1684, Ground Truth Energy: 1107.5286, Energy Difference: 0.3602\n",
      "Run 22, File 25 -> MSE: 0.7544, Predicted Energy: 1180.3699, Ground Truth Energy: 1181.1945, Energy Difference: 0.8246\n",
      "Run 22, File 26 -> MSE: 0.9045, Predicted Energy: 1252.9117, Ground Truth Energy: 1255.5040, Energy Difference: 2.5923\n",
      "Run 22, File 27 -> MSE: 0.7994, Predicted Energy: 1326.7943, Ground Truth Energy: 1330.3704, Energy Difference: 3.5761\n",
      "Run 22, File 28 -> MSE: 1.5015, Predicted Energy: 1408.3746, Ground Truth Energy: 1405.7140, Energy Difference: 2.6606\n",
      "Run 22, File 29 -> MSE: 1.2988, Predicted Energy: 1481.9803, Ground Truth Energy: 1481.4570, Energy Difference: 0.5233\n",
      "Run 22, File 30 -> MSE: 1.7580, Predicted Energy: 1558.4504, Ground Truth Energy: 1557.5372, Energy Difference: 0.9131\n",
      "Run 22, File 31 -> MSE: 1.2918, Predicted Energy: 1631.0210, Ground Truth Energy: 1633.8965, Energy Difference: 2.8755\n",
      "Run 22, File 32 -> MSE: 1.6888, Predicted Energy: 1710.6938, Ground Truth Energy: 1710.4770, Energy Difference: 0.2168\n",
      "Run 22, File 33 -> MSE: 3.0954, Predicted Energy: 1789.6500, Ground Truth Energy: 1787.2335, Energy Difference: 2.4165\n",
      "Run 22, File 34 -> MSE: 2.3854, Predicted Energy: 1865.4039, Ground Truth Energy: 1864.1238, Energy Difference: 1.2801\n",
      "Run 22, File 35 -> MSE: 3.7517, Predicted Energy: 1946.7162, Ground Truth Energy: 1941.1010, Energy Difference: 5.6153\n",
      "Run 22, File 36 -> MSE: 3.0843, Predicted Energy: 2025.2740, Ground Truth Energy: 2018.1307, Energy Difference: 7.1434\n",
      "Run 22, File 37 -> MSE: 5.1480, Predicted Energy: 2107.1945, Ground Truth Energy: 2095.1874, Energy Difference: 12.0071\n",
      "Run 22, File 38 -> MSE: 5.1797, Predicted Energy: 2183.6584, Ground Truth Energy: 2172.2352, Energy Difference: 11.4232\n",
      "Run 22, File 39 -> MSE: 7.2611, Predicted Energy: 2264.0785, Ground Truth Energy: 2249.2519, Energy Difference: 14.8266\n",
      "Run 22, File 40 -> MSE: 8.4030, Predicted Energy: 2343.4611, Ground Truth Energy: 2326.2188, Energy Difference: 17.2424\n",
      "Run 26, File 1 -> MSE: 0.1728, Predicted Energy: 1.5042, Ground Truth Energy: 1.3582, Energy Difference: 0.1460\n",
      "Run 26, File 2 -> MSE: 0.2566, Predicted Energy: 8.5257, Ground Truth Energy: 6.8179, Energy Difference: 1.7079\n",
      "Run 26, File 3 -> MSE: 0.2785, Predicted Energy: 19.7818, Ground Truth Energy: 17.9490, Energy Difference: 1.8328\n",
      "Run 26, File 4 -> MSE: 0.3112, Predicted Energy: 37.9988, Ground Truth Energy: 35.6111, Energy Difference: 2.3877\n",
      "Run 26, File 5 -> MSE: 0.2735, Predicted Energy: 60.4680, Ground Truth Energy: 59.6371, Energy Difference: 0.8309\n",
      "Run 26, File 6 -> MSE: 0.1316, Predicted Energy: 91.6212, Ground Truth Energy: 89.7727, Energy Difference: 1.8485\n",
      "Run 26, File 7 -> MSE: 0.3170, Predicted Energy: 127.6659, Ground Truth Energy: 125.5299, Energy Difference: 2.1360\n",
      "Run 26, File 8 -> MSE: 0.2979, Predicted Energy: 170.1775, Ground Truth Energy: 166.4554, Energy Difference: 3.7221\n",
      "Run 26, File 9 -> MSE: 0.3156, Predicted Energy: 213.9523, Ground Truth Energy: 212.0176, Energy Difference: 1.9347\n",
      "Run 26, File 10 -> MSE: 0.4501, Predicted Energy: 263.5599, Ground Truth Energy: 261.7848, Energy Difference: 1.7751\n",
      "Run 26, File 11 -> MSE: 0.2533, Predicted Energy: 315.9164, Ground Truth Energy: 315.2786, Energy Difference: 0.6379\n",
      "Run 26, File 12 -> MSE: 0.3951, Predicted Energy: 373.4035, Ground Truth Energy: 372.1225, Energy Difference: 1.2810\n",
      "Run 26, File 13 -> MSE: 0.2746, Predicted Energy: 431.0995, Ground Truth Energy: 431.9538, Energy Difference: 0.8543\n",
      "Run 26, File 14 -> MSE: 0.2116, Predicted Energy: 494.0259, Ground Truth Energy: 494.4161, Energy Difference: 0.3902\n",
      "Run 26, File 15 -> MSE: 0.2528, Predicted Energy: 561.0766, Ground Truth Energy: 559.2426, Energy Difference: 1.8340\n",
      "Run 26, File 16 -> MSE: 0.5697, Predicted Energy: 628.2653, Ground Truth Energy: 626.1285, Energy Difference: 2.1368\n",
      "Run 26, File 17 -> MSE: 0.6774, Predicted Energy: 700.5884, Ground Truth Energy: 694.8542, Energy Difference: 5.7342\n",
      "Run 26, File 18 -> MSE: 1.2769, Predicted Energy: 772.6778, Ground Truth Energy: 765.2011, Energy Difference: 7.4767\n",
      "Run 26, File 19 -> MSE: 0.9389, Predicted Energy: 843.4160, Ground Truth Energy: 836.9727, Energy Difference: 6.4433\n",
      "Run 26, File 20 -> MSE: 0.8156, Predicted Energy: 914.8504, Ground Truth Energy: 909.9801, Energy Difference: 4.8703\n",
      "Run 26, File 21 -> MSE: 0.7675, Predicted Energy: 988.3354, Ground Truth Energy: 984.0863, Energy Difference: 4.2491\n",
      "Run 26, File 22 -> MSE: 0.9482, Predicted Energy: 1064.2395, Ground Truth Energy: 1059.1458, Energy Difference: 5.0937\n",
      "Run 26, File 23 -> MSE: 0.5124, Predicted Energy: 1138.2237, Ground Truth Energy: 1135.0320, Energy Difference: 3.1917\n",
      "Run 26, File 24 -> MSE: 0.4798, Predicted Energy: 1212.8090, Ground Truth Energy: 1211.6314, Energy Difference: 1.1776\n",
      "Run 26, File 25 -> MSE: 0.3796, Predicted Energy: 1289.6414, Ground Truth Energy: 1288.8327, Energy Difference: 0.8087\n",
      "Run 26, File 26 -> MSE: 0.4214, Predicted Energy: 1365.2605, Ground Truth Energy: 1366.5611, Energy Difference: 1.3005\n",
      "Run 26, File 27 -> MSE: 0.5107, Predicted Energy: 1445.8955, Ground Truth Energy: 1444.7159, Energy Difference: 1.1796\n",
      "Run 26, File 28 -> MSE: 0.5036, Predicted Energy: 1525.7275, Ground Truth Energy: 1523.2444, Energy Difference: 2.4832\n",
      "Run 26, File 29 -> MSE: 0.5486, Predicted Energy: 1602.0383, Ground Truth Energy: 1602.0663, Energy Difference: 0.0280\n",
      "Run 26, File 30 -> MSE: 0.4635, Predicted Energy: 1680.1771, Ground Truth Energy: 1681.1185, Energy Difference: 0.9414\n"
     ]
    },
    {
     "name": "stdout",
     "output_type": "stream",
     "text": [
      "Run 26, File 31 -> MSE: 0.6005, Predicted Energy: 1762.0266, Ground Truth Energy: 1760.3548, Energy Difference: 1.6717\n",
      "Run 26, File 32 -> MSE: 0.5203, Predicted Energy: 1840.9537, Ground Truth Energy: 1839.7134, Energy Difference: 1.2403\n",
      "Run 26, File 33 -> MSE: 0.5250, Predicted Energy: 1922.3137, Ground Truth Energy: 1919.1661, Energy Difference: 3.1476\n",
      "Run 26, File 34 -> MSE: 0.8083, Predicted Energy: 2002.4629, Ground Truth Energy: 1998.6774, Energy Difference: 3.7855\n",
      "Run 26, File 35 -> MSE: 0.8473, Predicted Energy: 2079.8928, Ground Truth Energy: 2078.1881, Energy Difference: 1.7047\n",
      "Run 26, File 36 -> MSE: 0.7315, Predicted Energy: 2161.6316, Ground Truth Energy: 2157.6918, Energy Difference: 3.9398\n",
      "Run 26, File 37 -> MSE: 0.9674, Predicted Energy: 2242.1371, Ground Truth Energy: 2237.1499, Energy Difference: 4.9872\n",
      "Run 26, File 38 -> MSE: 1.0648, Predicted Energy: 2321.0041, Ground Truth Energy: 2316.5365, Energy Difference: 4.4676\n",
      "Run 26, File 39 -> MSE: 1.5426, Predicted Energy: 2396.7494, Ground Truth Energy: 2395.8236, Energy Difference: 0.9258\n",
      "Run 26, File 40 -> MSE: 1.6296, Predicted Energy: 2477.2984, Ground Truth Energy: 2475.0029, Energy Difference: 2.2955\n",
      "Run 30, File 1 -> MSE: 0.2748, Predicted Energy: 3.4325, Ground Truth Energy: 1.1653, Energy Difference: 2.2672\n",
      "Run 30, File 2 -> MSE: 0.1147, Predicted Energy: 7.5457, Ground Truth Energy: 5.8722, Energy Difference: 1.6735\n",
      "Run 30, File 3 -> MSE: 0.2605, Predicted Energy: 17.7505, Ground Truth Energy: 15.5605, Energy Difference: 2.1900\n",
      "Run 30, File 4 -> MSE: 0.3202, Predicted Energy: 34.9903, Ground Truth Energy: 31.1974, Energy Difference: 3.7929\n",
      "Run 30, File 5 -> MSE: 0.3502, Predicted Energy: 53.9666, Ground Truth Energy: 52.7866, Energy Difference: 1.1800\n",
      "Run 30, File 6 -> MSE: 0.3024, Predicted Energy: 82.0708, Ground Truth Energy: 80.1829, Energy Difference: 1.8880\n",
      "Run 30, File 7 -> MSE: 0.4382, Predicted Energy: 115.4001, Ground Truth Energy: 113.0550, Energy Difference: 2.3451\n",
      "Run 30, File 8 -> MSE: 0.3759, Predicted Energy: 154.6143, Ground Truth Energy: 150.9467, Energy Difference: 3.6676\n",
      "Run 30, File 9 -> MSE: 0.2970, Predicted Energy: 195.1058, Ground Truth Energy: 193.4701, Energy Difference: 1.6357\n",
      "Run 30, File 10 -> MSE: 0.1638, Predicted Energy: 241.5869, Ground Truth Energy: 240.1626, Energy Difference: 1.4242\n",
      "Run 30, File 11 -> MSE: 0.3254, Predicted Energy: 292.5579, Ground Truth Energy: 290.6323, Energy Difference: 1.9255\n",
      "Run 30, File 12 -> MSE: 0.2907, Predicted Energy: 345.4591, Ground Truth Energy: 344.4946, Energy Difference: 0.9645\n",
      "Run 30, File 13 -> MSE: 0.3034, Predicted Energy: 402.3617, Ground Truth Energy: 401.3926, Energy Difference: 0.9691\n",
      "Run 30, File 14 -> MSE: 0.2651, Predicted Energy: 462.1312, Ground Truth Energy: 461.0108, Energy Difference: 1.1203\n",
      "Run 30, File 15 -> MSE: 0.3152, Predicted Energy: 524.9783, Ground Truth Energy: 523.0454, Energy Difference: 1.9330\n",
      "Run 30, File 16 -> MSE: 0.4194, Predicted Energy: 590.3175, Ground Truth Energy: 587.2293, Energy Difference: 3.0882\n",
      "Run 30, File 17 -> MSE: 0.4484, Predicted Energy: 655.9197, Ground Truth Energy: 653.3468, Energy Difference: 2.5729\n",
      "Run 30, File 18 -> MSE: 0.6169, Predicted Energy: 725.4606, Ground Truth Energy: 721.1479, Energy Difference: 4.3127\n",
      "Run 30, File 19 -> MSE: 0.4377, Predicted Energy: 792.8963, Ground Truth Energy: 790.4527, Energy Difference: 2.4436\n",
      "Run 30, File 20 -> MSE: 0.6675, Predicted Energy: 864.4369, Ground Truth Energy: 861.0839, Energy Difference: 3.3530\n",
      "Run 30, File 21 -> MSE: 0.4893, Predicted Energy: 932.2094, Ground Truth Energy: 932.8726, Energy Difference: 0.6632\n",
      "Run 30, File 22 -> MSE: 0.7361, Predicted Energy: 1007.3777, Ground Truth Energy: 1005.6873, Energy Difference: 1.6904\n",
      "Run 30, File 23 -> MSE: 0.9784, Predicted Energy: 1083.3951, Ground Truth Energy: 1079.3963, Energy Difference: 3.9988\n",
      "Run 30, File 24 -> MSE: 0.5954, Predicted Energy: 1154.5674, Ground Truth Energy: 1153.8828, Energy Difference: 0.6846\n",
      "Run 30, File 25 -> MSE: 0.6321, Predicted Energy: 1227.3941, Ground Truth Energy: 1229.0341, Energy Difference: 1.6400\n",
      "Run 30, File 26 -> MSE: 0.5103, Predicted Energy: 1304.3035, Ground Truth Energy: 1304.7682, Energy Difference: 0.4647\n",
      "Run 30, File 27 -> MSE: 0.7215, Predicted Energy: 1381.6396, Ground Truth Energy: 1380.9842, Energy Difference: 0.6554\n",
      "Run 30, File 28 -> MSE: 1.0325, Predicted Energy: 1461.2285, Ground Truth Energy: 1457.6193, Energy Difference: 3.6092\n",
      "Run 30, File 29 -> MSE: 0.9228, Predicted Energy: 1538.9025, Ground Truth Energy: 1534.6021, Energy Difference: 4.3005\n",
      "Run 30, File 30 -> MSE: 0.9218, Predicted Energy: 1614.9528, Ground Truth Energy: 1611.8640, Energy Difference: 3.0889\n",
      "Run 30, File 31 -> MSE: 1.5787, Predicted Energy: 1693.9900, Ground Truth Energy: 1689.3544, Energy Difference: 4.6356\n",
      "Run 30, File 32 -> MSE: 1.3067, Predicted Energy: 1771.2350, Ground Truth Energy: 1767.0222, Energy Difference: 4.2128\n",
      "Run 30, File 33 -> MSE: 1.6623, Predicted Energy: 1852.2387, Ground Truth Energy: 1844.8207, Energy Difference: 7.4180\n",
      "Run 30, File 34 -> MSE: 2.3108, Predicted Energy: 1930.1318, Ground Truth Energy: 1922.7130, Energy Difference: 7.4188\n",
      "Run 30, File 35 -> MSE: 2.2388, Predicted Energy: 2009.5787, Ground Truth Energy: 2000.6545, Energy Difference: 8.9242\n",
      "Run 30, File 36 -> MSE: 2.5248, Predicted Energy: 2088.1816, Ground Truth Energy: 2078.6092, Energy Difference: 9.5725\n",
      "Run 30, File 37 -> MSE: 3.5178, Predicted Energy: 2170.6641, Ground Truth Energy: 2156.5573, Energy Difference: 14.1068\n",
      "Run 30, File 38 -> MSE: 3.9431, Predicted Energy: 2249.4414, Ground Truth Energy: 2234.4652, Energy Difference: 14.9762\n",
      "Run 30, File 39 -> MSE: 3.7661, Predicted Energy: 2328.3738, Ground Truth Energy: 2312.3061, Energy Difference: 16.0677\n",
      "Run 30, File 40 -> MSE: 6.3904, Predicted Energy: 2410.3820, Ground Truth Energy: 2390.0691, Energy Difference: 20.3129\n",
      "Run 34, File 1 -> MSE: 0.2909, Predicted Energy: 2.2071, Ground Truth Energy: 1.2906, Energy Difference: 0.9165\n",
      "Run 34, File 2 -> MSE: 0.2260, Predicted Energy: 6.0738, Ground Truth Energy: 6.3278, Energy Difference: 0.2540\n",
      "Run 34, File 3 -> MSE: 0.3313, Predicted Energy: 17.9125, Ground Truth Energy: 16.6325, Energy Difference: 1.2800\n",
      "Run 34, File 4 -> MSE: 0.6104, Predicted Energy: 37.0309, Ground Truth Energy: 33.1014, Energy Difference: 3.9295\n",
      "Run 34, File 5 -> MSE: 0.3920, Predicted Energy: 57.6129, Ground Truth Energy: 55.5911, Energy Difference: 2.0219\n",
      "Run 34, File 6 -> MSE: 0.5266, Predicted Energy: 85.8308, Ground Truth Energy: 83.9278, Energy Difference: 1.9030\n",
      "Run 34, File 7 -> MSE: 0.4773, Predicted Energy: 122.0772, Ground Truth Energy: 117.6583, Energy Difference: 4.4190\n",
      "Run 34, File 8 -> MSE: 0.1735, Predicted Energy: 157.1798, Ground Truth Energy: 156.3815, Energy Difference: 0.7983\n",
      "Run 34, File 9 -> MSE: 0.2510, Predicted Energy: 200.8249, Ground Truth Energy: 199.6212, Energy Difference: 1.2037\n",
      "Run 34, File 10 -> MSE: 0.3317, Predicted Energy: 248.9067, Ground Truth Energy: 246.9644, Energy Difference: 1.9423\n",
      "Run 34, File 11 -> MSE: 0.2823, Predicted Energy: 299.9966, Ground Truth Energy: 297.9683, Energy Difference: 2.0283\n",
      "Run 34, File 12 -> MSE: 0.3515, Predicted Energy: 352.6361, Ground Truth Energy: 352.2840, Energy Difference: 0.3521\n",
      "Run 34, File 13 -> MSE: 0.2422, Predicted Energy: 408.9335, Ground Truth Energy: 409.5523, Energy Difference: 0.6188\n",
      "Run 34, File 14 -> MSE: 0.2798, Predicted Energy: 468.2854, Ground Truth Energy: 469.4481, Energy Difference: 1.1628\n",
      "Run 34, File 15 -> MSE: 0.5592, Predicted Energy: 530.9716, Ground Truth Energy: 531.7003, Energy Difference: 0.7287\n",
      "Run 34, File 16 -> MSE: 0.4375, Predicted Energy: 596.5323, Ground Truth Energy: 596.0454, Energy Difference: 0.4870\n",
      "Run 34, File 17 -> MSE: 0.3055, Predicted Energy: 665.1973, Ground Truth Energy: 662.2429, Energy Difference: 2.9543\n",
      "Run 34, File 18 -> MSE: 0.3958, Predicted Energy: 733.2011, Ground Truth Energy: 730.0958, Energy Difference: 3.1053\n",
      "Run 34, File 19 -> MSE: 0.6150, Predicted Energy: 804.5048, Ground Truth Energy: 799.3829, Energy Difference: 5.1219\n",
      "Run 34, File 20 -> MSE: 0.4424, Predicted Energy: 874.3070, Ground Truth Energy: 869.9682, Energy Difference: 4.3388\n"
     ]
    },
    {
     "name": "stdout",
     "output_type": "stream",
     "text": [
      "Run 34, File 21 -> MSE: 0.4281, Predicted Energy: 945.4618, Ground Truth Energy: 941.6884, Energy Difference: 3.7734\n",
      "Run 34, File 22 -> MSE: 0.4778, Predicted Energy: 1017.9308, Ground Truth Energy: 1014.3903, Energy Difference: 3.5405\n",
      "Run 34, File 23 -> MSE: 0.4727, Predicted Energy: 1091.5598, Ground Truth Energy: 1087.9584, Energy Difference: 3.6014\n",
      "Run 34, File 24 -> MSE: 0.5922, Predicted Energy: 1166.9189, Ground Truth Energy: 1162.2893, Energy Difference: 4.6296\n",
      "Run 34, File 25 -> MSE: 0.4518, Predicted Energy: 1240.4011, Ground Truth Energy: 1237.2706, Energy Difference: 3.1304\n",
      "Run 34, File 26 -> MSE: 0.5155, Predicted Energy: 1315.3359, Ground Truth Energy: 1312.8127, Energy Difference: 2.5233\n",
      "Run 34, File 27 -> MSE: 0.7424, Predicted Energy: 1393.0596, Ground Truth Energy: 1388.8284, Energy Difference: 4.2312\n",
      "Run 34, File 28 -> MSE: 0.4933, Predicted Energy: 1467.6254, Ground Truth Energy: 1465.2457, Energy Difference: 2.3797\n",
      "Run 34, File 29 -> MSE: 0.6245, Predicted Energy: 1546.5080, Ground Truth Energy: 1542.0051, Energy Difference: 4.5029\n",
      "Run 34, File 30 -> MSE: 0.6721, Predicted Energy: 1623.4375, Ground Truth Energy: 1619.0377, Energy Difference: 4.3998\n",
      "Run 34, File 31 -> MSE: 0.7239, Predicted Energy: 1700.5363, Ground Truth Energy: 1696.2809, Energy Difference: 4.2554\n",
      "Run 34, File 32 -> MSE: 0.8349, Predicted Energy: 1778.8906, Ground Truth Energy: 1773.7086, Energy Difference: 5.1820\n",
      "Run 34, File 33 -> MSE: 1.4523, Predicted Energy: 1857.7607, Ground Truth Energy: 1851.2651, Energy Difference: 6.4956\n",
      "Run 34, File 34 -> MSE: 3.5101, Predicted Energy: 1938.5344, Ground Truth Energy: 1928.9060, Energy Difference: 9.6284\n",
      "Run 34, File 35 -> MSE: 1.8685, Predicted Energy: 2013.7625, Ground Truth Energy: 2006.5970, Energy Difference: 7.1655\n",
      "Run 34, File 36 -> MSE: 2.0862, Predicted Energy: 2094.5754, Ground Truth Energy: 2084.2985, Energy Difference: 10.2769\n",
      "Run 34, File 37 -> MSE: 2.7804, Predicted Energy: 2173.0137, Ground Truth Energy: 2161.9811, Energy Difference: 11.0326\n",
      "Run 34, File 38 -> MSE: 2.2135, Predicted Energy: 2251.4014, Ground Truth Energy: 2239.6278, Energy Difference: 11.7736\n",
      "Run 34, File 39 -> MSE: 2.6833, Predicted Energy: 2328.9266, Ground Truth Energy: 2317.2122, Energy Difference: 11.7143\n",
      "Run 34, File 40 -> MSE: 2.3644, Predicted Energy: 2405.7207, Ground Truth Energy: 2394.7130, Energy Difference: 11.0077\n",
      "Run 48, File 1 -> MSE: 0.3299, Predicted Energy: 4.4387, Ground Truth Energy: 1.3394, Energy Difference: 3.0993\n",
      "Run 48, File 2 -> MSE: 0.1822, Predicted Energy: 6.4814, Ground Truth Energy: 6.5899, Energy Difference: 0.1085\n",
      "Run 48, File 3 -> MSE: 0.4962, Predicted Energy: 19.6517, Ground Truth Energy: 17.2949, Energy Difference: 2.3568\n",
      "Run 48, File 4 -> MSE: 0.2740, Predicted Energy: 36.7589, Ground Truth Energy: 34.3059, Energy Difference: 2.4531\n",
      "Run 48, File 5 -> MSE: 0.3769, Predicted Energy: 59.1385, Ground Truth Energy: 57.4368, Energy Difference: 1.7018\n",
      "Run 48, File 6 -> MSE: 0.1678, Predicted Energy: 88.0641, Ground Truth Energy: 86.4804, Energy Difference: 1.5837\n",
      "Run 48, File 7 -> MSE: 0.4692, Predicted Energy: 126.2943, Ground Truth Energy: 120.9582, Energy Difference: 5.3361\n",
      "Run 48, File 8 -> MSE: 0.1734, Predicted Energy: 161.6721, Ground Truth Energy: 160.4451, Energy Difference: 1.2270\n",
      "Run 48, File 9 -> MSE: 0.3571, Predicted Energy: 206.0447, Ground Truth Energy: 204.4476, Energy Difference: 1.5971\n",
      "Run 48, File 10 -> MSE: 0.2642, Predicted Energy: 252.7643, Ground Truth Energy: 252.5453, Energy Difference: 0.2190\n",
      "Run 48, File 11 -> MSE: 0.2740, Predicted Energy: 305.2493, Ground Truth Energy: 304.3014, Energy Difference: 0.9479\n",
      "Run 48, File 12 -> MSE: 0.2428, Predicted Energy: 360.5549, Ground Truth Energy: 359.3313, Energy Difference: 1.2236\n",
      "Run 48, File 13 -> MSE: 0.3070, Predicted Energy: 418.5035, Ground Truth Energy: 417.2985, Energy Difference: 1.2050\n",
      "Run 48, File 14 -> MSE: 0.3642, Predicted Energy: 476.7488, Ground Truth Energy: 477.8832, Energy Difference: 1.1344\n",
      "Run 48, File 15 -> MSE: 0.3229, Predicted Energy: 540.3975, Ground Truth Energy: 540.7788, Energy Difference: 0.3813\n",
      "Run 48, File 16 -> MSE: 0.4650, Predicted Energy: 608.6063, Ground Truth Energy: 605.7499, Energy Difference: 2.8565\n",
      "Run 48, File 17 -> MSE: 0.5513, Predicted Energy: 678.6820, Ground Truth Energy: 672.5435, Energy Difference: 6.1385\n",
      "Run 48, File 18 -> MSE: 0.6045, Predicted Energy: 746.0235, Ground Truth Energy: 740.9763, Energy Difference: 5.0472\n",
      "Run 48, File 19 -> MSE: 0.4765, Predicted Energy: 813.4091, Ground Truth Energy: 810.8241, Energy Difference: 2.5849\n",
      "Run 48, File 20 -> MSE: 0.5670, Predicted Energy: 887.8564, Ground Truth Energy: 881.9345, Energy Difference: 5.9220\n",
      "Run 48, File 21 -> MSE: 0.7260, Predicted Energy: 959.1261, Ground Truth Energy: 954.1538, Energy Difference: 4.9722\n",
      "Run 48, File 22 -> MSE: 0.5395, Predicted Energy: 1032.1815, Ground Truth Energy: 1027.3473, Energy Difference: 4.8342\n",
      "Run 48, File 23 -> MSE: 0.6752, Predicted Energy: 1106.3107, Ground Truth Energy: 1101.3859, Energy Difference: 4.9249\n",
      "Run 48, File 24 -> MSE: 0.5461, Predicted Energy: 1179.4773, Ground Truth Energy: 1176.1571, Energy Difference: 3.3203\n",
      "Run 48, File 25 -> MSE: 0.7944, Predicted Energy: 1256.6906, Ground Truth Energy: 1251.5493, Energy Difference: 5.1414\n",
      "Run 48, File 26 -> MSE: 0.5026, Predicted Energy: 1330.5606, Ground Truth Energy: 1327.5021, Energy Difference: 3.0586\n",
      "Run 48, File 27 -> MSE: 0.8736, Predicted Energy: 1409.4676, Ground Truth Energy: 1403.9239, Energy Difference: 5.5437\n",
      "Run 48, File 28 -> MSE: 0.7435, Predicted Energy: 1484.2563, Ground Truth Energy: 1480.7245, Energy Difference: 3.5319\n",
      "Run 48, File 29 -> MSE: 0.7501, Predicted Energy: 1562.4451, Ground Truth Energy: 1557.8545, Energy Difference: 4.5906\n",
      "Run 48, File 30 -> MSE: 0.6177, Predicted Energy: 1636.1227, Ground Truth Energy: 1635.2524, Energy Difference: 0.8702\n",
      "Run 48, File 31 -> MSE: 0.4954, Predicted Energy: 1714.7570, Ground Truth Energy: 1712.8430, Energy Difference: 1.9140\n",
      "Run 48, File 32 -> MSE: 1.3693, Predicted Energy: 1797.2285, Ground Truth Energy: 1790.5909, Energy Difference: 6.6376\n",
      "Run 48, File 33 -> MSE: 0.9788, Predicted Energy: 1873.2943, Ground Truth Energy: 1868.4496, Energy Difference: 4.8447\n",
      "Run 48, File 34 -> MSE: 0.8708, Predicted Energy: 1951.9785, Ground Truth Energy: 1946.3865, Energy Difference: 5.5920\n",
      "Run 48, File 35 -> MSE: 1.0088, Predicted Energy: 2029.0879, Ground Truth Energy: 2024.3774, Energy Difference: 4.7105\n",
      "Run 48, File 36 -> MSE: 2.6045, Predicted Energy: 2110.6854, Ground Truth Energy: 2102.3673, Energy Difference: 8.3181\n",
      "Run 48, File 37 -> MSE: 2.2188, Predicted Energy: 2189.8229, Ground Truth Energy: 2180.3416, Energy Difference: 9.4813\n",
      "Run 48, File 38 -> MSE: 1.6530, Predicted Energy: 2266.5293, Ground Truth Energy: 2258.2571, Energy Difference: 8.2722\n",
      "Run 48, File 39 -> MSE: 1.3446, Predicted Energy: 2342.1246, Ground Truth Energy: 2336.1066, Energy Difference: 6.0180\n",
      "Run 48, File 40 -> MSE: 2.0758, Predicted Energy: 2423.0254, Ground Truth Energy: 2413.8650, Energy Difference: 9.1604\n"
     ]
    }
   ],
   "source": [
    "total_mse = 0\n",
    "total_energy_difference = 0\n",
    "total_files = 0\n",
    "dt = 0.025\n",
    "total_files = 0\n",
    "\n",
    "for run in test_runs:\n",
    "    for j in j_range:\n",
    "        input_file_path = f'IntTemporalTestData/Run {run} - BL4, s39708/Run_{run}_BL4_s39708_InjPulsePower_InjEnergyFactor_{j}.csv'\n",
    "        ground_truth_file_path = f'IntTemporalTestData/Run {run} - BL4, s39708/Run_{run}_BL4_s39708_UVDBS_Power_InjEnergyFactor_{j}.csv'\n",
    "\n",
    "        if os.path.isfile(input_file_path) and os.path.isfile(ground_truth_file_path):\n",
    "            input_data = pd.read_csv(input_file_path, header=None).iloc[0].values\n",
    "            input_data_scaled = input_scaler.transform(input_data.reshape(1, -1))\n",
    "            input_tensor = torch.tensor(input_data_scaled, dtype=torch.float32).unsqueeze(0).to(device)\n",
    "\n",
    "            ground_truth_data = pd.read_csv(ground_truth_file_path, header=None).iloc[0].values\n",
    "            ground_truth_data_truncated = ground_truth_data[59:59+576]\n",
    "\n",
    "            with torch.no_grad():\n",
    "                prediction_scaled = model(input_tensor).cpu().numpy().squeeze()\n",
    "                prediction_original_scale = output_scaler.inverse_transform(prediction_scaled.reshape(1, -1)).squeeze()\n",
    "\n",
    "            predicted_energy = prediction_original_scale.sum() * dt\n",
    "            ground_truth_energy = ground_truth_data_truncated.sum() * dt\n",
    "            \n",
    "            ground_truth_max = ground_truth_data_truncated.max()\n",
    "            ground_truth_data_normalized = ground_truth_data_truncated / ground_truth_max\n",
    "\n",
    "            prediction_max = prediction_original_scale.max()\n",
    "            prediction_normalized = prediction_original_scale / prediction_max\n",
    "\n",
    "            input_data_max = input_data.max()\n",
    "            input_data_normalized = input_data / input_data_max\n",
    "\n",
    "            mse = mean_squared_error(ground_truth_data_truncated, prediction_original_scale)\n",
    "            energy_difference = abs(predicted_energy - ground_truth_energy)\n",
    "            \n",
    "            total_mse += mse\n",
    "            total_energy_difference += energy_difference\n",
    "            total_files += 1\n",
    "\n",
    "            results.append({\n",
    "                \"Run\": run,\n",
    "                \"File\": j,\n",
    "                \"MSE\": mse,\n",
    "                \"Predicted Energy\": predicted_energy,\n",
    "                \"Ground Truth Energy\": ground_truth_energy,\n",
    "                \"Energy Difference\": energy_difference\n",
    "            })\n",
    "            \n",
    "            predicted_output_csv_path = os.path.join(csv_folder, f\"Run_{run}_j_{j}_predicted.csv\")\n",
    "            pd.DataFrame(prediction_original_scale).to_csv(predicted_output_csv_path, index=False, header=False)\n",
    "\n",
    "            # Plot the data\n",
    "            plt.figure(figsize=(10, 5))\n",
    "            plt.plot(time_data, input_data_normalized.squeeze(), label='Input Pulse', color='steelblue')\n",
    "            plt.plot(time_data, prediction_normalized.squeeze(), label='Predicted Output Pulse', color='green')\n",
    "            plt.plot(time_data, ground_truth_data_normalized, label='Ground Truth Pulse', color='orange')\n",
    "            plt.title(f'Normalized Input vs Predicted vs Ground Truth (Run {run}, File {j})', fontsize=16, fontweight='bold')\n",
    "            plt.xlabel('Time(ns)', fontsize=14)\n",
    "            plt.ylabel('Power Factor', fontsize=15)\n",
    "            plt.xticks(fontsize=15)\n",
    "            plt.yticks(fontsize=15)\n",
    "\n",
    "            plt.legend(fontsize=12, loc='lower center', bbox_to_anchor=(0.5, 0), ncol=1, frameon=True)\n",
    "\n",
    "            plt.tight_layout()\n",
    "            #plt.show()\n",
    "\n",
    "            plot_file_path = os.path.join(plots_folder, f'Run_{run}_j_{j}_comparison.png')\n",
    "            plt.savefig(plot_file_path, bbox_inches='tight')\n",
    "            plt.close()\n",
    "\n",
    "\n",
    "            print(f\"Run {run}, File {j} -> MSE: {mse:.4f}, Predicted Energy: {predicted_energy:.4f}, \"\n",
    "                  f\"Ground Truth Energy: {ground_truth_energy:.4f}, Energy Difference: {energy_difference:.4f}\")\n",
    "        else:\n",
    "            print(f\"Files not found for Run {run}, File {j}\")"
   ]
  },
  {
   "cell_type": "code",
   "execution_count": 12,
   "id": "27304f88",
   "metadata": {},
   "outputs": [
    {
     "name": "stdout",
     "output_type": "stream",
     "text": [
      "\n",
      "Overall Metrics\n",
      "Average MSE: 0.9476\n",
      "Mean Energy Difference: 3.6608\n"
     ]
    }
   ],
   "source": [
    "average_mse = total_mse / total_files\n",
    "mean_energy_difference = total_energy_difference / total_files\n",
    "\n",
    "print(f\"\\nOverall Metrics\")\n",
    "print(f\"Average MSE: {average_mse:.4f}\")\n",
    "print(f\"Mean Energy Difference: {mean_energy_difference:.4f}\")"
   ]
  },
  {
   "cell_type": "code",
   "execution_count": 13,
   "id": "1ff49963",
   "metadata": {},
   "outputs": [
    {
     "name": "stdout",
     "output_type": "stream",
     "text": [
      "\n",
      "Testing completed. Results saved to 'final_op/denoiser\\finaltesting_results_d.csv'. Plots saved in 'final_op/denoiser\\plots'.\n"
     ]
    }
   ],
   "source": [
    "results_df = pd.DataFrame(results)\n",
    "csv_output_path = os.path.join(output_folder, \"finaltesting_results_d.csv\")\n",
    "results_df.to_csv(csv_output_path, index=False)\n",
    "print(f\"\\nTesting completed. Results saved to '{csv_output_path}'. Plots saved in '{plots_folder}'.\")"
   ]
  },
  {
   "cell_type": "code",
   "execution_count": 8,
   "id": "8b2eaa8c",
   "metadata": {},
   "outputs": [
    {
     "name": "stdout",
     "output_type": "stream",
     "text": [
      "Total files: 200\n"
     ]
    }
   ],
   "source": [
    "print(f\"Total files: {total_files}\")"
   ]
  },
  {
   "cell_type": "code",
   "execution_count": null,
   "id": "3f5711f5",
   "metadata": {},
   "outputs": [],
   "source": []
  },
  {
   "cell_type": "code",
   "execution_count": null,
   "id": "d45d423f",
   "metadata": {},
   "outputs": [],
   "source": []
  },
  {
   "cell_type": "code",
   "execution_count": 18,
   "id": "dfade699",
   "metadata": {},
   "outputs": [
    {
     "name": "stdout",
     "output_type": "stream",
     "text": [
      "Trainable Parameters: 164672\n"
     ]
    }
   ],
   "source": [
    "import torch.nn as nn\n",
    "\n",
    "# Example model\n",
    "class SimpleFeedForwardNN(nn.Module):\n",
    "    def __init__(self, input_dim, hidden_dim, output_dim):\n",
    "        super(SimpleFeedForwardNN, self).__init__()\n",
    "        self.fc1 = nn.Linear(input_dim, hidden_dim)\n",
    "        self.fc2 = nn.Linear(hidden_dim, hidden_dim)\n",
    "        self.fc3 = nn.Linear(hidden_dim, output_dim)\n",
    "\n",
    "    def forward(self, x):\n",
    "        x = torch.relu(self.fc1(x))\n",
    "        x = torch.relu(self.fc2(x))\n",
    "        x = self.fc3(x)\n",
    "        return x\n",
    "# Instantiate the model\n",
    "model = SimpleFeedForwardNN(input_dim=576, hidden_dim=128, output_dim=576)\n",
    "\n",
    "# Count trainable parameters\n",
    "def count_trainable_params(model):\n",
    "    return sum(p.numel() for p in model.parameters() if p.requires_grad)\n",
    "\n",
    "print(f\"Trainable Parameters: {count_trainable_params(model)}\")\n"
   ]
  },
  {
   "cell_type": "code",
   "execution_count": null,
   "id": "522c0f28",
   "metadata": {},
   "outputs": [],
   "source": []
  }
 ],
 "metadata": {
  "kernelspec": {
   "display_name": "Python 3 (ipykernel)",
   "language": "python",
   "name": "python3"
  },
  "language_info": {
   "codemirror_mode": {
    "name": "ipython",
    "version": 3
   },
   "file_extension": ".py",
   "mimetype": "text/x-python",
   "name": "python",
   "nbconvert_exporter": "python",
   "pygments_lexer": "ipython3",
   "version": "3.11.5"
  }
 },
 "nbformat": 4,
 "nbformat_minor": 5
}
